{
 "cells": [
  {
   "cell_type": "markdown",
   "metadata": {},
   "source": [
    "Copyright (c) Microsoft Corporation. All rights reserved.\n",
    "\n",
    "Licensed under the MIT License."
   ]
  },
  {
   "cell_type": "markdown",
   "metadata": {},
   "source": [
    "# Select the Python 3.6 kernel \n",
    "\n",
    "Note: If you get any issues with Azure AML SDK, please take a look at the [troubleshooting page](https://docs.microsoft.com/en-us/python/api/overview/azure/ml/install?preserve-view=true&view=azure-ml-py#troubleshooting)."
   ]
  },
  {
   "cell_type": "markdown",
   "metadata": {},
   "source": [
    "# Specify parameters\n",
    "Fill in the parameters below.  If you already have IoT Hub or Azure ML workspace, then enter their information here. Otherwise, the parameter names will be used in provisioning new services."
   ]
  },
  {
   "cell_type": "code",
   "execution_count": null,
   "metadata": {},
   "outputs": [],
   "source": [
    "# Enter the resource group in Azure where you want to provision the resources \n",
    "resource_group_name = \"<replace-with-your-resource-name>\"\n",
    "\n",
    "# Enter Azure region where your services will be provisioned, for example \"eastus2\"\n",
    "azure_region=\"EastUS\"\n",
    "\n",
    "# Enter your Azure IoT Hub name \n",
    "# If you don't have an IoT Hub, pick a name to make a new one \n",
    "iot_hub_name=\"<replace-with-your-iot-hub-name>\"\n",
    "\n",
    "# Enter your IoT Edge device ID \n",
    "# If you don't have an IoT Edge device registered, pick a name to create a new one \n",
    "# This is NOT the name of your VM, but it's just an entry in your IoT Hub, so you can pick any name\n",
    "iot_device_id=\"myEdgeDevice\"\n",
    "\n",
    "# Provide your Azure subscription ID to provision your services \n",
    "subscription_id = \"<replace-with-your-subscription-id>\"\n",
    "# Provide your Azure ML service workspace name \n",
    "# If you don't have a workspace, pick a name to create a new one\n",
    "aml_workspace_name = \"<enter-aml-workspace-name>\""
   ]
  },
  {
   "cell_type": "code",
   "execution_count": null,
   "metadata": {},
   "outputs": [],
   "source": [
    "# DO NOT CHANGE THIS VALUE for this tutorial\n",
    "# This is the name of the AML module you deploy to the device\n",
    "module_name = \"machinelearningmodule\""
   ]
  },
  {
   "cell_type": "markdown",
   "metadata": {},
   "source": [
    "# Loading IOT Extension"
   ]
  },
  {
   "cell_type": "code",
   "execution_count": null,
   "metadata": {
    "tags": []
   },
   "outputs": [],
   "source": [
    "# Load the IoT extension for Azure CLI\n",
    "!az extension add --name azure-iot"
   ]
  },
  {
   "cell_type": "markdown",
   "metadata": {},
   "source": [
    "# Login to Azure"
   ]
  },
  {
   "cell_type": "code",
   "execution_count": null,
   "metadata": {
    "tags": []
   },
   "outputs": [],
   "source": [
    "!az login"
   ]
  },
  {
   "cell_type": "markdown",
   "metadata": {},
   "source": [
    "# Setting the Azure Subscription"
   ]
  },
  {
   "cell_type": "code",
   "execution_count": null,
   "metadata": {
    "tags": []
   },
   "outputs": [],
   "source": [
    "!az account set --subscription $subscription_id"
   ]
  },
  {
   "cell_type": "markdown",
   "metadata": {},
   "source": [
    "# Install the Azure Machine Learning library"
   ]
  },
  {
   "cell_type": "code",
   "execution_count": null,
   "metadata": {
    "tags": []
   },
   "outputs": [],
   "source": [
    "!pip install --upgrade azureml-sdk"
   ]
  },
  {
   "cell_type": "markdown",
   "metadata": {},
   "source": [
    "# Check core SDK version number"
   ]
  },
  {
   "cell_type": "code",
   "execution_count": null,
   "metadata": {
    "tags": []
   },
   "outputs": [],
   "source": [
    "# Check core SDK version number\n",
    "import azureml.core\n",
    "from azureml.core import Workspace\n",
    "\n",
    "print(\"SDK version:\", azureml.core.VERSION)"
   ]
  },
  {
   "cell_type": "markdown",
   "metadata": {},
   "source": [
    "# Create the Machine learning Workspace"
   ]
  },
  {
   "cell_type": "code",
   "execution_count": null,
   "metadata": {
    "tags": []
   },
   "outputs": [],
   "source": [
    "# Create ML WorkSpace \n",
    "ws = Workspace.create(subscription_id = subscription_id,\n",
    "                resource_group = resource_group_name,\n",
    "                name = aml_workspace_name,\n",
    "                location = azure_region)\n",
    "\n",
    "ws.write_config()"
   ]
  },
  {
   "cell_type": "markdown",
   "metadata": {},
   "source": [
    "# Install the Libraries"
   ]
  },
  {
   "cell_type": "code",
   "execution_count": null,
   "metadata": {
    "tags": []
   },
   "outputs": [],
   "source": [
    "!pip install pandas\n",
    "!pip install -U scikit-learn"
   ]
  },
  {
   "cell_type": "markdown",
   "metadata": {},
   "source": [
    "# Load and read data set"
   ]
  },
  {
   "cell_type": "code",
   "execution_count": null,
   "metadata": {},
   "outputs": [],
   "source": [
    "# Load and read data set\n",
    "import pandas\n",
    "import numpy\n",
    "import pickle\n",
    "\n",
    "\n",
    "from sklearn import tree\n",
    "from sklearn.model_selection import train_test_split"
   ]
  },
  {
   "cell_type": "code",
   "execution_count": null,
   "metadata": {
    "scrolled": true
   },
   "outputs": [],
   "source": [
    "temp_data = pandas.read_csv('temperature_data.csv')\n",
    "temp_data"
   ]
  },
  {
   "cell_type": "markdown",
   "metadata": {},
   "source": [
    "# Load features and labels"
   ]
  },
  {
   "cell_type": "code",
   "execution_count": null,
   "metadata": {},
   "outputs": [],
   "source": [
    "# Load features and labels\n",
    "X, Y = temp_data[['machine_temperature', 'machine_pressure', 'ambient_temperature', 'ambient_humidity']].values, temp_data['anomaly'].values"
   ]
  },
  {
   "cell_type": "markdown",
   "metadata": {},
   "source": [
    "# Train The Model"
   ]
  },
  {
   "cell_type": "code",
   "execution_count": null,
   "metadata": {
    "tags": []
   },
   "outputs": [],
   "source": [
    "# Split data 65%-35% into training set and test set\n",
    "X_train, X_test, Y_train, Y_test = train_test_split(X, Y, test_size=0.35, random_state=0)\n",
    "\n",
    "# Change regularization rate and you will likely get a different accuracy.\n",
    "reg = 0.01\n",
    "\n",
    "# Train a decision tree on the training set\n",
    "#clf1 = LogisticRegression(C=1/reg).fit(X_train, Y_train)\n",
    "clf1 = tree.DecisionTreeClassifier()\n",
    "clf1 = clf1.fit(X_train, Y_train)\n",
    "print (clf1)"
   ]
  },
  {
   "cell_type": "markdown",
   "metadata": {},
   "source": [
    "# Evaluate the accuracy"
   ]
  },
  {
   "cell_type": "code",
   "execution_count": null,
   "metadata": {
    "scrolled": true,
    "tags": []
   },
   "outputs": [],
   "source": [
    "# Evaluate the test set\n",
    "accuracy = clf1.score(X_test, Y_test)\n",
    "\n",
    "print (\"Accuracy is {}\".format(accuracy))"
   ]
  },
  {
   "cell_type": "markdown",
   "metadata": {},
   "source": [
    "# Serializing and testing the model"
   ]
  },
  {
   "cell_type": "code",
   "execution_count": null,
   "metadata": {
    "tags": []
   },
   "outputs": [],
   "source": [
    "# Serialize the model and write to disk\n",
    "f = open('model.pkl', 'wb')\n",
    "pickle.dump(clf1, f)\n",
    "f.close()\n",
    "print (\"Exported the model to model.pkl\")"
   ]
  },
  {
   "cell_type": "code",
   "execution_count": null,
   "metadata": {
    "tags": []
   },
   "outputs": [],
   "source": [
    "# Test the model by importing it and providing a sample data point\n",
    "print(\"Import the model from model.pkl\")\n",
    "f2 = open('model.pkl', 'rb')\n",
    "clf2 = pickle.load(f2)\n",
    "\n",
    "# Normal (not an anomaly)\n",
    "#X_new = [[24.90294136, 1.44463889, 20.89537849, 24]]\n",
    "#X_new = [[33.40859853, 2.413637808, 20.89162813, 26]]\n",
    "#X_new = [[34.42109181, 2.528985143, 21.23903786, 25]]\n",
    "\n",
    "# Anomaly\n",
    "X_new = [[33.66995566, 2.44341267, 21.39450979, 26]]\n",
    "#X_new = [[105.5457931, 10.63179922, 20.62029994, 26]]\n",
    "\n",
    "print ('New sample: {}'.format(X_new))\n",
    "\n",
    "pred = clf2.predict(X_new)\n",
    "print('Predicted class is {}'.format(pred))"
   ]
  },
  {
   "cell_type": "markdown",
   "metadata": {},
   "source": [
    "# Register Model to cloud"
   ]
  },
  {
   "cell_type": "code",
   "execution_count": null,
   "metadata": {
    "tags": []
   },
   "outputs": [],
   "source": [
    "#Register Model to cloud\n",
    "from azureml.core.model import Model\n",
    "\n",
    "model = Model.register(model_path = \"model.pkl\",\n",
    "                       model_name = \"model.pkl\",\n",
    "                       tags = {'area': \"anomaly\", 'type': \"classification\"},\n",
    "                       description = \"Sample anomaly detection model for IOT tutorial\",\n",
    "                       workspace = ws)"
   ]
  },
  {
   "cell_type": "code",
   "execution_count": null,
   "metadata": {
    "tags": []
   },
   "outputs": [],
   "source": [
    "#print model \n",
    "print(model.name, model.description, model.version, sep = '\\t')"
   ]
  },
  {
   "cell_type": "markdown",
   "metadata": {},
   "source": [
    "# Write out python file iot_score.py"
   ]
  },
  {
   "cell_type": "code",
   "execution_count": null,
   "metadata": {
    "tags": []
   },
   "outputs": [],
   "source": [
    "%%writefile iot_score.py\n",
    "# This script generates the scoring file\n",
    "# with the init and run functions needed to \n",
    "# operationalize the anomaly detection sample\n",
    "\n",
    "import pickle\n",
    "import json\n",
    "import pandas\n",
    "import joblib\n",
    "from sklearn.linear_model import Ridge\n",
    "from azureml.core.model import Model\n",
    "\n",
    "def init():\n",
    "    global model\n",
    "    # this is a different behavior than before when the code is run locally, even though the code is the same.\n",
    "    model_path = Model.get_model_path('model.pkl')\n",
    "    # deserialize the model file back into a sklearn model\n",
    "    model = joblib.load(model_path)\n",
    "\n",
    "# note you can pass in multiple rows for scoring\n",
    "def run(input_str):\n",
    "    try:\n",
    "        input_json = json.loads(input_str)\n",
    "        input_df = pandas.DataFrame([[input_json['machine']['temperature'],input_json['machine']['pressure'],input_json['ambient']['temperature'],input_json['ambient']['humidity']]])\n",
    "        pred = model.predict(input_df)\n",
    "        print(\"Prediction is \", pred[0])\n",
    "    except Exception as e:\n",
    "        result = str(e)\n",
    "        \n",
    "    if pred[0] == 1:\n",
    "        input_json['anomaly']=True\n",
    "    else:\n",
    "        input_json['anomaly']=False\n",
    "        \n",
    "    return [json.dumps(input_json)]\n"
   ]
  },
  {
   "cell_type": "markdown",
   "metadata": {},
   "source": [
    "# Loading Azure ML workspace"
   ]
  },
  {
   "cell_type": "code",
   "execution_count": null,
   "metadata": {
    "tags": []
   },
   "outputs": [],
   "source": [
    "# Initialize a workspace object from persisted configuration\n",
    "from azureml.core import Workspace\n",
    "\n",
    "ws = Workspace.from_config()\n",
    "print(ws.name, ws.resource_group, ws.location, ws.subscription_id, sep = '\\n')"
   ]
  },
  {
   "cell_type": "markdown",
   "metadata": {},
   "source": [
    "# Create docker Image"
   ]
  },
  {
   "cell_type": "code",
   "execution_count": null,
   "metadata": {},
   "outputs": [],
   "source": [
    "# Create docker Image This specifies the dependencies to include in the environment\n",
    "from azureml.core.conda_dependencies import CondaDependencies \n",
    "\n",
    "myenv = CondaDependencies.create(\n",
    "    conda_packages=['pandas', 'scikit-learn', 'numpy', 'pip=20.1.1'],\n",
    "    pip_packages=['azureml-sdk'])\n",
    "\n",
    "with open(\"myenv.yml\",\"w\") as f:\n",
    "    f.write(myenv.serialize_to_string())"
   ]
  },
  {
   "cell_type": "code",
   "execution_count": null,
   "metadata": {
    "tags": []
   },
   "outputs": [],
   "source": [
    "from azureml.core.image import Image, ContainerImage\n",
    "\n",
    "image_config = ContainerImage.image_configuration(runtime= \"python\",\n",
    "                                 execution_script=\"iot_score.py\",\n",
    "                                 conda_file=\"myenv.yml\",\n",
    "                                 tags = {'area': \"iot\", 'type': \"classification\"},\n",
    "                                 description = \"IOT Edge anomaly detection demo\")\n",
    "\n",
    "\n",
    "image = Image.create(name = \"tempanomalydetection\",\n",
    "                     # this is the model object \n",
    "                     models = [model],\n",
    "                     image_config = image_config, \n",
    "                     workspace = ws)"
   ]
  },
  {
   "cell_type": "code",
   "execution_count": null,
   "metadata": {
    "tags": []
   },
   "outputs": [],
   "source": [
    "image.wait_for_creation(show_output = True)"
   ]
  },
  {
   "cell_type": "code",
   "execution_count": null,
   "metadata": {
    "tags": []
   },
   "outputs": [],
   "source": [
    "for i in Image.list(workspace = ws,tags = [\"area\"]):\n",
    "    print('{}(v.{} [{}]) stored at {} with build log {}'.format(i.name, i.version, i.creation_state, i.image_location, i.image_build_log_uri))"
   ]
  },
  {
   "cell_type": "markdown",
   "metadata": {},
   "source": [
    "# Testing the model on Azure container Instance"
   ]
  },
  {
   "cell_type": "code",
   "execution_count": null,
   "metadata": {
    "tags": [
     "deploy service",
     "aci"
    ]
   },
   "outputs": [],
   "source": [
    "#test Model on Azure Container\n",
    "\n",
    "from azureml.core.webservice import AciWebservice\n",
    "\n",
    "aciconfig = AciWebservice.deploy_configuration(cpu_cores = 1, \n",
    "                                               memory_gb = 1, \n",
    "                                               tags = {'area': \"iot\", 'type': \"classification\"}, \n",
    "                                               description = 'IOT Edge anomaly detection demo')"
   ]
  },
  {
   "cell_type": "code",
   "execution_count": null,
   "metadata": {
    "tags": []
   },
   "outputs": [],
   "source": [
    "from azureml.core.webservice import AciWebservice\n",
    "\n",
    "aci_service_name = 'tempsensor-iotedge-ml-1'\n",
    "print(aci_service_name)\n",
    "aci_service = Webservice.deploy_from_image(deployment_config = aciconfig,\n",
    "                                           image = image,\n",
    "                                           name = aci_service_name,\n",
    "                                           workspace = ws)\n",
    "aci_service.wait_for_deployment(True)\n",
    "print(aci_service.state)"
   ]
  },
  {
   "cell_type": "markdown",
   "metadata": {},
   "source": [
    "# Testing web service"
   ]
  },
  {
   "cell_type": "code",
   "execution_count": null,
   "metadata": {
    "tags": [
     "deploy service",
     "aci"
    ]
   },
   "outputs": [],
   "source": [
    "#testing Web Service \n",
    "\n",
    "import json\n",
    "\n",
    "# Anomaly\n",
    "#test_sample = json.dumps({ \"machine\": { \"temperature\": 33.66995566, \"pressure\": 2.44341267 }, \\\n",
    "#                          \"ambient\": { \"temperature\": 21.39450979, \"humidity\": 26 },\\\n",
    "#                          \"timeCreated\": \"2017-10-27T18:14:02.4911177Z\" })\n",
    "\n",
    "# Normal\n",
    "test_sample = json.dumps({ \"machine\": { \"temperature\": 31.16469009, \"pressure\": 2.158002669 }, \\\n",
    "                          \"ambient\": { \"temperature\": 21.17794693, \"humidity\": 25 },\\\n",
    "                          \"timeCreated\": \"2017-10-27T18:14:02.4911177Z\" })\n",
    "\n",
    "test_sample = bytes(test_sample,encoding = 'utf8')\n",
    "\n",
    "prediction = aci_service.run(input_data = test_sample)\n",
    "print(prediction)"
   ]
  },
  {
   "cell_type": "markdown",
   "metadata": {},
   "source": [
    "# Getting container details"
   ]
  },
  {
   "cell_type": "code",
   "execution_count": null,
   "metadata": {
    "tags": []
   },
   "outputs": [],
   "source": [
    "# Getting your container details\n",
    "container_reg = ws.get_details()[\"containerRegistry\"]\n",
    "reg_name=container_reg.split(\"/\")[-1]\n",
    "container_url = \"\\\"\" + image.image_location + \"\\\",\"\n",
    "subscription_id = ws.subscription_id\n",
    "print('{}'.format(image.image_location))\n",
    "print('{}'.format(reg_name))\n",
    "print('{}'.format(subscription_id))\n",
    "from azure.mgmt.containerregistry import ContainerRegistryManagementClient\n",
    "from azure.mgmt import containerregistry\n",
    "client = ContainerRegistryManagementClient(ws._auth,subscription_id)\n",
    "result= client.registries.list_credentials(resource_group_name, reg_name)\n",
    "username = result.username\n",
    "password = result.passwords[0].value"
   ]
  },
  {
   "cell_type": "markdown",
   "metadata": {},
   "source": [
    "# Deploying container to the Edge device"
   ]
  },
  {
   "cell_type": "code",
   "execution_count": null,
   "metadata": {},
   "outputs": [],
   "source": [
    "#Deploying Container to Edge \n",
    "\n",
    "file = open('iot-workshop-deployment-template.json')\n",
    "contents = file.read()\n",
    "contents = contents.replace('__MODULE_NAME', module_name)\n",
    "contents = contents.replace('__REGISTRY_NAME', reg_name)\n",
    "contents = contents.replace('__REGISTRY_USER_NAME', username)\n",
    "contents = contents.replace('__REGISTRY_PASSWORD', password)\n",
    "contents = contents.replace('__REGISTRY_IMAGE_LOCATION', image.image_location)\n",
    "with open('./deployment.json', 'wt', encoding='utf-8') as output_file:\n",
    "    output_file.write(contents)"
   ]
  },
  {
   "cell_type": "code",
   "execution_count": null,
   "metadata": {},
   "outputs": [],
   "source": [
    "# Push the deployment JSON to the IOT Hub\n",
    "!az iot edge set-modules --device-id $iot_device_id --hub-name $iot_hub_name --content deployment.json"
   ]
  }
 ],
 "metadata": {
  "authors": [
   {
    "name": "raymondl"
   }
  ],
  "kernelspec": {
   "display_name": "Python 3",
   "language": "python",
   "name": "python3"
  },
  "language_info": {
   "codemirror_mode": {
    "name": "ipython",
    "version": 3
   },
   "file_extension": ".py",
   "mimetype": "text/x-python",
   "name": "python",
   "nbconvert_exporter": "python",
   "pygments_lexer": "ipython3",
   "version": "3.8.5"
  }
 },
 "nbformat": 4,
 "nbformat_minor": 4
}
